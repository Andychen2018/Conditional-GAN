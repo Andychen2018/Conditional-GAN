{
 "cells": [
  {
   "cell_type": "code",
   "execution_count": 1,
   "metadata": {},
   "outputs": [],
   "source": [
    "import torch\n",
    "import torch.nn as nn\n",
    "from torch.utils.data import Dataset\n",
    "import pandas\n",
    "import pandas, numpy, random\n",
    "import matplotlib.pyplot as plt\n",
    "from pandas import Series"
   ]
  },
  {
   "cell_type": "code",
   "execution_count": 2,
   "metadata": {},
   "outputs": [],
   "source": [
    "# functions to generate random data\n",
    "def generate_random_image(size):\n",
    "    random_data = torch.rand(size)\n",
    "    return random_data\n",
    "\n",
    "\n",
    "def generate_random_seed(size):\n",
    "    random_data = torch.randn(size)\n",
    "    return random_data\n",
    "\n",
    "# size here must only be an integer\n",
    "def generate_random_one_hot(size):\n",
    "    label_tensor = torch.zeros((size))\n",
    "    random_idx = random.randint(0,size-1)\n",
    "    label_tensor[random_idx] = 1.0\n",
    "    return label_tensor"
   ]
  },
  {
   "cell_type": "code",
   "execution_count": 3,
   "metadata": {},
   "outputs": [],
   "source": [
    "class View(nn.Module):\n",
    "    def __init__(self,shape):\n",
    "        super().__init__()\n",
    "        self.shape = shape,\n",
    "        \n",
    "    def forward(self,x):\n",
    "        return x.view(*self.shape)"
   ]
  },
  {
   "cell_type": "markdown",
   "metadata": {},
   "source": [
    "# Dataset Class"
   ]
  },
  {
   "cell_type": "code",
   "execution_count": 4,
   "metadata": {},
   "outputs": [],
   "source": [
    "class MnistDataset(Dataset):\n",
    "    def __init__(self,csv_file):\n",
    "        self.data_df = pandas.read_csv(csv_file,header = 0)\n",
    "        pass\n",
    "    \n",
    "    def  __len__(self):\n",
    "        return len(self.data_df)\n",
    "    \n",
    "    def __getitem__(self,index):\n",
    "        label = self.data_df.iloc[index,0]\n",
    "\n",
    "        target = torch.zeros((2))\n",
    "        target[label] = 1.0\n",
    "        #image_values = torch.FloatTensor(self.data_df.iloc[index,1:].values)/255.0\n",
    "        image_values = torch.FloatTensor(self.data_df.iloc[index,1:4490].values)/6108.0\n",
    "        #image_values = torch.cuda.FloatTensor(image_values).view(1,1,67,67)\n",
    "        \n",
    "        return label,image_values,target\n",
    "    \n",
    "    def plot_image(self,index):\n",
    "        img = self.data_df.iloc[index,1:4490].values.reshape(67,67)\n",
    "        plt.title(\"User\" + str(self.data_df.index[index])+ \"  Label=\"+ str(self.data_df.iloc[index,0]))\n",
    "        #plt.title(\"label = \" + str(self.data_df.iloc[index,0]))\n",
    "        plt.imshow(img,interpolation='none',cmap = 'Blues')\n",
    "        pass\n",
    "    pass\n"
   ]
  },
  {
   "cell_type": "code",
   "execution_count": 5,
   "metadata": {},
   "outputs": [
    {
     "data": {
      "image/png": "[encoded data removed]",
      "text/plain": [
       "<Figure size 432x288 with 1 Axes>"
      ]
     },
     "metadata": {},
     "output_type": "display_data"
    }
   ],
   "source": [
    "mnist_dataset = MnistDataset('./FullDataSet1.csv')\n",
    "mnist_dataset.plot_image(4230)"
   ]
  },
  {
   "cell_type": "markdown",
   "metadata": {},
   "source": [
    "# Discriminator Network 构建鉴别器"
   ]
  },
  {
   "cell_type": "code",
   "execution_count": 6,
   "metadata": {},
   "outputs": [],
   "source": [
    "class Discriminator(nn.Module):\n",
    "    \n",
    "    def __init__(self):\n",
    "        \n",
    "        super().__init__()\n",
    "        \n",
    "        #define neural network layers\n",
    "        self.model = nn.Sequential(\n",
    "             \n",
    "            nn.Linear(4489+2, 200),\n",
    "            nn.LeakyReLU(0.02),\n",
    "\n",
    "            nn.LayerNorm(200),\n",
    "\n",
    "            nn.Linear(200, 1),\n",
    "            nn.Sigmoid()\n",
    "           \n",
    "        \n",
    "        )\n",
    "        \n",
    "        self.loss_function = nn.BCELoss()\n",
    "        \n",
    "        self.optimiser = torch.optim.Adam(self.parameters(),lr = 0.0001)\n",
    "        \n",
    "        self.counter = 0;\n",
    "        self.progress = []\n",
    "        pass\n",
    "    \n",
    "    def forward(self, image_tensor, label_tensor):\n",
    "        # combine seed and label\n",
    "        inputs = torch.cat((image_tensor, label_tensor))\n",
    "        return self.model(inputs)\n",
    "    \n",
    "    \n",
    "    def train(self, inputs, label_tensor, targets):\n",
    "        # calculate the output of the network\n",
    "        outputs = self.forward(inputs, label_tensor)\n",
    "        \n",
    "        # calculate loss\n",
    "        loss = self.loss_function(outputs, targets)\n",
    "\n",
    "        # increase counter and accumulate error every 10\n",
    "        self.counter += 1;\n",
    "        if (self.counter % 10 == 0):\n",
    "            self.progress.append(loss.item())\n",
    "            pass\n",
    "        if (self.counter % 4320 == 0):\n",
    "            print(\"counter = \", self.counter)\n",
    "            pass\n",
    "\n",
    "        # zero gradients, perform a backward pass, update weights\n",
    "        self.optimiser.zero_grad()\n",
    "        loss.backward()\n",
    "        self.optimiser.step()\n",
    "\n",
    "        pass\n",
    "    \n",
    "    \n",
    "    def plot_progress(self):\n",
    "        df = pandas.DataFrame(self.progress, columns=['loss'])\n",
    "        df.plot(ylim=(0), figsize=(16,8), alpha=0.1, marker='.', grid=True, yticks=(0, 0.25, 0.5, 1.0, 5.0))\n",
    "        pass\n",
    "    \n",
    "    pass  "
   ]
  },
  {
   "cell_type": "markdown",
   "metadata": {},
   "source": [
    "# Test Discriminator"
   ]
  },
  {
   "cell_type": "code",
   "execution_count": 7,
   "metadata": {},
   "outputs": [
    {
     "name": "stdout",
     "output_type": "stream",
     "text": [
      "counter =  4320\n",
      "CPU times: user 3h 12min 45s, sys: 26.3 s, total: 3h 13min 11s\n",
      "Wall time: 5min 53s\n"
     ]
    }
   ],
   "source": [
    "%%time\n",
    "# test discriminator can separate real data from random noise\n",
    "\n",
    "D = Discriminator()\n",
    "#D.to(device)\n",
    "\n",
    "for label, image_data_tensor, label_tensor in mnist_dataset:\n",
    "    # real data\n",
    "    D.train(image_data_tensor, label_tensor, torch.FloatTensor([1.0]))\n",
    "    # fake data\n",
    "    D.train(generate_random_image(4489), generate_random_one_hot(2), torch.FloatTensor([0.0]))\n",
    "    pass"
   ]
  },
  {
   "cell_type": "code",
   "execution_count": 8,
   "metadata": {},
   "outputs": [
    {
     "data": {
      "image/png": "[encoded data removed]",
      "text/plain": [
       "<Figure size 1152x576 with 1 Axes>"
      ]
     },
     "metadata": {},
     "output_type": "display_data"
    }
   ],
   "source": [
    "D.plot_progress()"
   ]
  },
  {
   "cell_type": "code",
   "execution_count": 9,
   "metadata": {},
   "outputs": [
    {
     "name": "stdout",
     "output_type": "stream",
     "text": [
      "0.9999887943267822\n",
      "0.9999874830245972\n",
      "0.9999886751174927\n",
      "0.9999786615371704\n",
      "1.1145625649078283e-05\n",
      "1.1136296961922199e-05\n",
      "1.126026199926855e-05\n",
      "1.1247577276662923e-05\n"
     ]
    }
   ],
   "source": [
    "# manually run discriminator to check it can tell real data from fake\n",
    "\n",
    "for i in range(4):\n",
    "  label, image_data_tensor, label_tensor = mnist_dataset[random.randint(0,4320)]\n",
    "  print( D.forward( image_data_tensor, label_tensor ).item() )\n",
    "  pass\n",
    "\n",
    "for i in range(4):\n",
    "  print( D.forward( generate_random_image(4489), generate_random_one_hot(2) ).item() )\n",
    "  pass"
   ]
  },
  {
   "cell_type": "markdown",
   "metadata": {},
   "source": [
    "# Generator Network"
   ]
  },
  {
   "cell_type": "code",
   "execution_count": 10,
   "metadata": {},
   "outputs": [],
   "source": [
    "# generator class\n",
    "\n",
    "class Generator(nn.Module):\n",
    "    \n",
    "    def __init__(self):\n",
    "        # initialise parent pytorch class\n",
    "        super().__init__()\n",
    "        \n",
    "        # define neural network layers\n",
    "        self.model = nn.Sequential(\n",
    "            nn.Linear(100+2, 200),\n",
    "            nn.LeakyReLU(0.02),\n",
    "\n",
    "            nn.LayerNorm(200),\n",
    "\n",
    "            nn.Linear(200, 4489),\n",
    "            nn.Sigmoid()\n",
    "        )\n",
    "        \n",
    "        # create optimiser, simple stochastic gradient descent\n",
    "        self.optimiser = torch.optim.Adam(self.parameters(), lr=0.0001)\n",
    "\n",
    "        # counter and accumulator for progress\n",
    "        self.counter = 0;\n",
    "        self.progress = []\n",
    "        \n",
    "        pass\n",
    "    \n",
    "    \n",
    "    def forward(self, seed_tensor, label_tensor):        \n",
    "        # combine seed and label\n",
    "        inputs = torch.cat((seed_tensor, label_tensor))\n",
    "        return self.model(inputs)\n",
    "\n",
    "\n",
    "    def train(self, D, inputs, label_tensor, targets):\n",
    "        # calculate the output of the network\n",
    "        g_output = self.forward(inputs, label_tensor)\n",
    "        \n",
    "        # pass onto Discriminator\n",
    "        d_output = D.forward(g_output, label_tensor)\n",
    "        \n",
    "        # calculate error\n",
    "        loss = D.loss_function(d_output, targets)\n",
    "\n",
    "        # increase counter and accumulate error every 10\n",
    "        self.counter += 1;\n",
    "        if (self.counter % 10 == 0):\n",
    "            self.progress.append(loss.item())\n",
    "            pass\n",
    "\n",
    "        # zero gradients, perform a backward pass, update weights\n",
    "        self.optimiser.zero_grad()\n",
    "        loss.backward()\n",
    "        self.optimiser.step()\n",
    "\n",
    "        pass\n",
    "    \n",
    "    def plot_images(self, label):\n",
    "        label_tensor = torch.zeros((2))\n",
    "        label_tensor[label] = 1.0\n",
    "        # plot a 3 column, 2 row array of sample images\n",
    "        f, axarr = plt.subplots(2,3, figsize=(16,8))\n",
    "        for i in range(2):\n",
    "            for j in range(3):\n",
    "                axarr[i,j].imshow(G.forward(generate_random_seed(100), label_tensor).detach().cpu().numpy().reshape(67,67), interpolation='none', cmap='Blues')\n",
    "                pass\n",
    "            pass\n",
    "        pass\n",
    "    \n",
    "    def plot_progress(self):\n",
    "        df = pandas.DataFrame(self.progress, columns=['loss'])\n",
    "        df.plot(ylim=(0), figsize=(16,8), alpha=0.1, marker='.', grid=True, yticks=(0, 0.25, 0.5, 1.0, 5.0))\n",
    "        pass\n",
    "    \n",
    "    pass"
   ]
  },
  {
   "cell_type": "markdown",
   "metadata": {},
   "source": [
    "# Test Generator Output"
   ]
  },
  {
   "cell_type": "code",
   "execution_count": 11,
   "metadata": {},
   "outputs": [
    {
     "data": {
      "text/plain": [
       "<matplotlib.image.AxesImage at 0x7f2ed4f412e8>"
      ]
     },
     "execution_count": 11,
     "metadata": {},
     "output_type": "execute_result"
    },
    {
     "data": {
      "image/png": "[encoded data removed]",
      "text/plain": [
       "<Figure size 432x288 with 1 Axes>"
      ]
     },
     "metadata": {},
     "output_type": "display_data"
    }
   ],
   "source": [
    "# check the generator output is of the right type and shape\n",
    "\n",
    "G = Generator()\n",
    "\n",
    "output = G.forward(generate_random_seed(100), generate_random_one_hot(2))\n",
    "\n",
    "img = output.detach().numpy().reshape(67,67)\n",
    "\n",
    "plt.imshow(img, interpolation='none', cmap='Blues')"
   ]
  },
  {
   "cell_type": "markdown",
   "metadata": {},
   "source": [
    "# Train GAN"
   ]
  },
  {
   "cell_type": "code",
   "execution_count": 12,
   "metadata": {},
   "outputs": [],
   "source": [
    "# train Discriminator and Generator\n",
    "\n",
    "D = Discriminator()\n",
    "G = Generator()\n",
    "# D.to(device)\n",
    "# G.to(device)"
   ]
  },
  {
   "cell_type": "code",
   "execution_count": 13,
   "metadata": {},
   "outputs": [
    {
     "name": "stdout",
     "output_type": "stream",
     "text": [
      "epoch =  1\n",
      "counter =  4320\n",
      "epoch =  2\n",
      "counter =  8640\n",
      "counter =  12960\n",
      "epoch =  3\n",
      "counter =  17280\n",
      "counter =  21600\n",
      "epoch =  4\n",
      "counter =  25920\n",
      "counter =  30240\n",
      "epoch =  5\n",
      "counter =  34560\n",
      "counter =  38880\n",
      "epoch =  6\n",
      "counter =  43200\n",
      "counter =  47520\n",
      "epoch =  7\n",
      "counter =  51840\n",
      "counter =  56160\n",
      "epoch =  8\n",
      "counter =  60480\n",
      "counter =  64800\n",
      "epoch =  9\n",
      "counter =  69120\n",
      "counter =  73440\n",
      "epoch =  10\n",
      "counter =  77760\n",
      "counter =  82080\n",
      "epoch =  11\n",
      "counter =  86400\n",
      "counter =  90720\n",
      "epoch =  12\n",
      "counter =  95040\n",
      "counter =  99360\n",
      "epoch =  13\n",
      "counter =  103680\n",
      "counter =  108000\n",
      "epoch =  14\n",
      "counter =  112320\n",
      "counter =  116640\n",
      "epoch =  15\n",
      "counter =  120960\n",
      "counter =  125280\n",
      "epoch =  16\n",
      "counter =  129600\n",
      "counter =  133920\n",
      "epoch =  17\n",
      "counter =  138240\n",
      "counter =  142560\n",
      "epoch =  18\n",
      "counter =  146880\n",
      "counter =  151200\n",
      "epoch =  19\n",
      "counter =  155520\n",
      "counter =  159840\n",
      "epoch =  20\n",
      "counter =  164160\n",
      "counter =  168480\n",
      "epoch =  21\n",
      "counter =  172800\n",
      "counter =  177120\n",
      "epoch =  22\n",
      "counter =  181440\n",
      "counter =  185760\n",
      "epoch =  23\n",
      "counter =  190080\n",
      "counter =  194400\n",
      "epoch =  24\n",
      "counter =  198720\n",
      "counter =  203040\n",
      "epoch =  25\n",
      "counter =  207360\n",
      "epoch =  26\n",
      "counter =  211680\n",
      "counter =  216000\n",
      "epoch =  27\n",
      "counter =  220320\n",
      "counter =  224640\n",
      "epoch =  28\n",
      "counter =  228960\n",
      "counter =  233280\n",
      "epoch =  29\n",
      "counter =  237600\n",
      "counter =  241920\n",
      "epoch =  30\n",
      "counter =  246240\n",
      "counter =  250560\n",
      "epoch =  31\n",
      "counter =  254880\n",
      "counter =  259200\n",
      "epoch =  32\n",
      "counter =  263520\n",
      "counter =  267840\n",
      "epoch =  33\n",
      "counter =  272160\n",
      "counter =  276480\n",
      "epoch =  34\n",
      "counter =  280800\n",
      "counter =  285120\n",
      "epoch =  35\n",
      "counter =  289440\n",
      "counter =  293760\n",
      "epoch =  36\n",
      "counter =  298080\n",
      "counter =  302400\n",
      "epoch =  37\n",
      "counter =  306720\n",
      "counter =  311040\n",
      "epoch =  38\n",
      "counter =  315360\n",
      "counter =  319680\n",
      "epoch =  39\n",
      "counter =  324000\n",
      "counter =  328320\n",
      "epoch =  40\n",
      "counter =  332640\n",
      "counter =  336960\n",
      "epoch =  41\n",
      "counter =  341280\n",
      "counter =  345600\n",
      "epoch =  42\n",
      "counter =  349920\n",
      "counter =  354240\n",
      "epoch =  43\n",
      "counter =  358560\n",
      "counter =  362880\n",
      "epoch =  44\n",
      "counter =  367200\n",
      "counter =  371520\n",
      "epoch =  45\n",
      "counter =  375840\n",
      "counter =  380160\n",
      "epoch =  46\n",
      "counter =  384480\n",
      "counter =  388800\n",
      "epoch =  47\n",
      "counter =  393120\n",
      "counter =  397440\n",
      "epoch =  48\n",
      "counter =  401760\n",
      "counter =  406080\n",
      "epoch =  49\n",
      "counter =  410400\n",
      "counter =  414720\n",
      "epoch =  50\n",
      "counter =  419040\n",
      "epoch =  51\n",
      "counter =  423360\n",
      "counter =  427680\n",
      "epoch =  52\n",
      "counter =  432000\n",
      "counter =  436320\n",
      "epoch =  53\n",
      "counter =  440640\n",
      "counter =  444960\n",
      "epoch =  54\n",
      "counter =  449280\n",
      "counter =  453600\n",
      "epoch =  55\n",
      "counter =  457920\n",
      "counter =  462240\n",
      "epoch =  56\n",
      "counter =  466560\n",
      "counter =  470880\n",
      "epoch =  57\n",
      "counter =  475200\n",
      "counter =  479520\n",
      "epoch =  58\n",
      "counter =  483840\n",
      "counter =  488160\n",
      "epoch =  59\n",
      "counter =  492480\n",
      "counter =  496800\n",
      "epoch =  60\n",
      "counter =  501120\n",
      "counter =  505440\n",
      "epoch =  61\n",
      "counter =  509760\n",
      "counter =  514080\n",
      "epoch =  62\n",
      "counter =  518400\n",
      "counter =  522720\n",
      "epoch =  63\n",
      "counter =  527040\n",
      "counter =  531360\n",
      "epoch =  64\n",
      "counter =  535680\n",
      "counter =  540000\n",
      "epoch =  65\n",
      "counter =  544320\n",
      "counter =  548640\n",
      "epoch =  66\n",
      "counter =  552960\n",
      "counter =  557280\n",
      "epoch =  67\n",
      "counter =  561600\n",
      "counter =  565920\n",
      "epoch =  68\n",
      "counter =  570240\n",
      "counter =  574560\n",
      "epoch =  69\n",
      "counter =  578880\n",
      "counter =  583200\n",
      "epoch =  70\n",
      "counter =  587520\n",
      "counter =  591840\n",
      "epoch =  71\n",
      "counter =  596160\n",
      "counter =  600480\n",
      "epoch =  72\n",
      "counter =  604800\n",
      "counter =  609120\n",
      "epoch =  73\n",
      "counter =  613440\n",
      "counter =  617760\n",
      "epoch =  74\n",
      "counter =  622080\n",
      "epoch =  75\n",
      "counter =  626400\n",
      "counter =  630720\n",
      "epoch =  76\n",
      "counter =  635040\n",
      "counter =  639360\n",
      "epoch =  77\n",
      "counter =  643680\n",
      "counter =  648000\n",
      "epoch =  78\n",
      "counter =  652320\n",
      "counter =  656640\n",
      "epoch =  79\n",
      "counter =  660960\n",
      "counter =  665280\n",
      "epoch =  80\n",
      "counter =  669600\n",
      "counter =  673920\n",
      "epoch =  81\n",
      "counter =  678240\n",
      "counter =  682560\n",
      "epoch =  82\n",
      "counter =  686880\n",
      "counter =  691200\n",
      "epoch =  83\n",
      "counter =  695520\n",
      "counter =  699840\n",
      "epoch =  84\n",
      "counter =  704160\n",
      "counter =  708480\n",
      "epoch =  85\n",
      "counter =  712800\n",
      "counter =  717120\n",
      "epoch =  86\n",
      "counter =  721440\n",
      "counter =  725760\n",
      "epoch =  87\n",
      "counter =  730080\n",
      "counter =  734400\n",
      "epoch =  88\n",
      "counter =  738720\n",
      "counter =  743040\n",
      "epoch =  89\n",
      "counter =  747360\n",
      "counter =  751680\n",
      "epoch =  90\n",
      "counter =  756000\n",
      "counter =  760320\n",
      "epoch =  91\n",
      "counter =  764640\n",
      "counter =  768960\n",
      "epoch =  92\n",
      "counter =  773280\n",
      "counter =  777600\n",
      "epoch =  93\n",
      "counter =  781920\n",
      "counter =  786240\n",
      "epoch =  94\n",
      "counter =  790560\n",
      "counter =  794880\n",
      "epoch =  95\n",
      "counter =  799200\n",
      "counter =  803520\n",
      "epoch =  96\n",
      "counter =  807840\n",
      "counter =  812160\n",
      "epoch =  97\n",
      "counter =  816480\n",
      "counter =  820800\n",
      "epoch =  98\n",
      "counter =  825120\n",
      "counter =  829440\n",
      "epoch =  99\n",
      "counter =  833760\n",
      "epoch =  100\n",
      "counter =  838080\n",
      "counter =  842400\n",
      "CPU times: user 16d 5h 59min 56s, sys: 1h 51min 17s, total: 16d 7h 51min 13s\n",
      "Wall time: 11h 58min 29s\n"
     ]
    }
   ],
   "source": [
    "%%time \n",
    "\n",
    "# train Discriminator and Generator\n",
    "\n",
    "epochs = 100\n",
    "\n",
    "for epoch in range(epochs):\n",
    "  print (\"epoch = \", epoch + 1)\n",
    "\n",
    "  # train Discriminator and Generator\n",
    "\n",
    "  for label, image_data_tensor, label_tensor in mnist_dataset:\n",
    "    # train discriminator on true\n",
    "    D.train(image_data_tensor, label_tensor, torch.FloatTensor([1.0]))\n",
    "\n",
    "    # random 1-hot label for generator\n",
    "    random_label = generate_random_one_hot(2)\n",
    "    \n",
    "    # train discriminator on false\n",
    "    # use detach() so gradients in G are not calculated\n",
    "    D.train(G.forward(generate_random_seed(100), random_label).detach(), random_label, torch.FloatTensor([0.0]))\n",
    "    \n",
    "    # different random 1-hot label for generator\n",
    "    random_label = generate_random_one_hot(2)\n",
    "\n",
    "    # train generator\n",
    "    G.train(D, generate_random_seed(100), random_label, torch.FloatTensor([1.0]))\n",
    "\n",
    "    pass\n",
    "    \n",
    "  pass"
   ]
  },
  {
   "cell_type": "code",
   "execution_count": 14,
   "metadata": {},
   "outputs": [
    {
     "data": {
      "image/png": "[encoded data removed]",
      "text/plain": [
       "<Figure size 1152x576 with 1 Axes>"
      ]
     },
     "metadata": {},
     "output_type": "display_data"
    }
   ],
   "source": [
    "# plot discriminator error\n",
    "\n",
    "D.plot_progress()"
   ]
  },
  {
   "cell_type": "code",
   "execution_count": 15,
   "metadata": {},
   "outputs": [
    {
     "data": {
      "image/png": "[encoded data removed]",
      "text/plain": [
       "<Figure size 1152x576 with 1 Axes>"
      ]
     },
     "metadata": {},
     "output_type": "display_data"
    }
   ],
   "source": [
    "# plot generator error\n",
    "\n",
    "G.plot_progress()"
   ]
  },
  {
   "cell_type": "code",
   "execution_count": 16,
   "metadata": {},
   "outputs": [
    {
     "data": {
      "image/png": "[encoded data removed]",
      "text/plain": [
       "<Figure size 1152x576 with 6 Axes>"
      ]
     },
     "metadata": {},
     "output_type": "display_data"
    }
   ],
   "source": [
    "# plot several outputs from the trained generator\n",
    "\n",
    "G.plot_images(1)"
   ]
  },
  {
   "cell_type": "code",
   "execution_count": 17,
   "metadata": {},
   "outputs": [
    {
     "data": {
      "image/png": "[encoded data removed]",
      "text/plain": [
       "<Figure size 1152x576 with 6 Axes>"
      ]
     },
     "metadata": {},
     "output_type": "display_data"
    }
   ],
   "source": [
    "# plot several outputs from the trained generator\n",
    "\n",
    "G.plot_images(0)"
   ]
  },
  {
   "cell_type": "code",
   "execution_count": 38,
   "metadata": {},
   "outputs": [],
   "source": [
    "output1 = G.forward(generate_random_seed(100),torch.tensor([1., 0.]))"
   ]
  },
  {
   "cell_type": "code",
   "execution_count": 39,
   "metadata": {},
   "outputs": [],
   "source": [
    "output0 = G.forward(generate_random_seed(100),torch.tensor([0., 1.]))"
   ]
  },
  {
   "cell_type": "code",
   "execution_count": 35,
   "metadata": {},
   "outputs": [
    {
     "data": {
      "text/plain": [
       "tensor([[9.9984e-01, 3.2524e-13, 1.6314e-13,  ..., 1.5655e-09, 1.5192e-13,\n",
       "         8.5101e-07],\n",
       "        [1.0000e+00, 2.9974e-13, 9.9936e-01,  ..., 3.2242e-04, 6.2480e-07,\n",
       "         2.0844e-05],\n",
       "        [9.9994e-01, 3.8552e-05, 1.1419e-13,  ..., 2.7346e-09, 7.3551e-05,\n",
       "         3.0825e-05],\n",
       "        ...,\n",
       "        [1.0000e+00, 7.3911e-05, 9.3338e-13,  ..., 1.1399e-07, 3.7541e-07,\n",
       "         1.8566e-11],\n",
       "        [9.9993e-01, 9.8025e-05, 7.3597e-15,  ..., 2.9395e-13, 3.0482e-05,\n",
       "         2.0108e-07],\n",
       "        [9.9976e-01, 6.2267e-05, 1.6455e-13,  ..., 3.4690e-05, 6.6596e-07,\n",
       "         8.9708e-07]], grad_fn=<ViewBackward>)"
      ]
     },
     "execution_count": 35,
     "metadata": {},
     "output_type": "execute_result"
    }
   ],
   "source": [
    "output0.reshape(67,67)"
   ]
  },
  {
   "cell_type": "code",
   "execution_count": 41,
   "metadata": {},
   "outputs": [],
   "source": [
    "x = (output1-output0).reshape(67,67)"
   ]
  },
  {
   "cell_type": "code",
   "execution_count": 42,
   "metadata": {},
   "outputs": [
    {
     "data": {
      "text/plain": [
       "tensor([[ 1.0091e-04, -1.5995e-13, -3.6796e-14,  ..., -8.4659e-10,\n",
       "          4.1855e-14,  1.7263e-07],\n",
       "        [ 1.1921e-07, -2.3056e-13,  2.7180e-04,  ...,  1.3450e-04,\n",
       "          6.1123e-08, -7.9313e-07],\n",
       "        [ 3.8147e-06, -4.3156e-07, -7.3738e-15,  ...,  5.7074e-10,\n",
       "          9.6267e-05, -4.3974e-07],\n",
       "        ...,\n",
       "        [ 0.0000e+00,  2.9432e-05, -3.5934e-13,  ..., -3.2847e-08,\n",
       "         -8.7789e-09, -4.1167e-12],\n",
       "        [ 1.0014e-05,  3.8055e-05, -2.7967e-15,  ..., -5.7756e-14,\n",
       "          1.7565e-05, -8.5555e-08],\n",
       "        [-2.2292e-05,  8.4408e-06, -1.3018e-13,  ..., -1.5499e-06,\n",
       "          3.2040e-08, -7.4460e-08]], grad_fn=<ViewBackward>)"
      ]
     },
     "execution_count": 42,
     "metadata": {},
     "output_type": "execute_result"
    }
   ],
   "source": [
    "x"
   ]
  },
  {
   "cell_type": "code",
   "execution_count": null,
   "metadata": {},
   "outputs": [],
   "source": []
  }
 ],
 "metadata": {
  "kernelspec": {
   "display_name": "Python 3",
   "language": "python",
   "name": "python3"
  },
  "language_info": {
   "codemirror_mode": {
    "name": "ipython",
    "version": 3
   },
   "file_extension": ".py",
   "mimetype": "text/x-python",
   "name": "python",
   "nbconvert_exporter": "python",
   "pygments_lexer": "ipython3",
   "version": "3.6.5"
  }
 },
 "nbformat": 4,
 "nbformat_minor": 2
}
